{
 "cells": [
  {
   "cell_type": "markdown",
   "id": "eb7e28f9",
   "metadata": {},
   "source": [
    "### WEB_SCRAPING_ASSIGNMENT_3"
   ]
  },
  {
   "cell_type": "code",
   "execution_count": 1,
   "id": "53d10f78",
   "metadata": {},
   "outputs": [
    {
     "name": "stdout",
     "output_type": "stream",
     "text": [
      "Requirement already satisfied: selenium in c:\\users\\rabi kumar\\anaconda3\\lib\\site-packages (4.8.3)\n",
      "Requirement already satisfied: urllib3[socks]~=1.26 in c:\\users\\rabi kumar\\anaconda3\\lib\\site-packages (from selenium) (1.26.14)\n",
      "Requirement already satisfied: trio~=0.17 in c:\\users\\rabi kumar\\anaconda3\\lib\\site-packages (from selenium) (0.22.0)\n",
      "Requirement already satisfied: certifi>=2021.10.8 in c:\\users\\rabi kumar\\anaconda3\\lib\\site-packages (from selenium) (2022.12.7)\n",
      "Requirement already satisfied: trio-websocket~=0.9 in c:\\users\\rabi kumar\\anaconda3\\lib\\site-packages (from selenium) (0.10.2)\n",
      "Requirement already satisfied: attrs>=19.2.0 in c:\\users\\rabi kumar\\anaconda3\\lib\\site-packages (from trio~=0.17->selenium) (22.1.0)\n",
      "Requirement already satisfied: cffi>=1.14 in c:\\users\\rabi kumar\\anaconda3\\lib\\site-packages (from trio~=0.17->selenium) (1.15.1)\n",
      "Requirement already satisfied: outcome in c:\\users\\rabi kumar\\anaconda3\\lib\\site-packages (from trio~=0.17->selenium) (1.2.0)\n",
      "Requirement already satisfied: async-generator>=1.9 in c:\\users\\rabi kumar\\anaconda3\\lib\\site-packages (from trio~=0.17->selenium) (1.10)\n",
      "Requirement already satisfied: sortedcontainers in c:\\users\\rabi kumar\\anaconda3\\lib\\site-packages (from trio~=0.17->selenium) (2.4.0)\n",
      "Requirement already satisfied: exceptiongroup>=1.0.0rc9 in c:\\users\\rabi kumar\\anaconda3\\lib\\site-packages (from trio~=0.17->selenium) (1.1.1)\n",
      "Requirement already satisfied: sniffio in c:\\users\\rabi kumar\\anaconda3\\lib\\site-packages (from trio~=0.17->selenium) (1.2.0)\n",
      "Requirement already satisfied: idna in c:\\users\\rabi kumar\\anaconda3\\lib\\site-packages (from trio~=0.17->selenium) (3.4)\n",
      "Requirement already satisfied: wsproto>=0.14 in c:\\users\\rabi kumar\\anaconda3\\lib\\site-packages (from trio-websocket~=0.9->selenium) (1.2.0)\n",
      "Requirement already satisfied: PySocks!=1.5.7,<2.0,>=1.5.6 in c:\\users\\rabi kumar\\anaconda3\\lib\\site-packages (from urllib3[socks]~=1.26->selenium) (1.7.1)\n",
      "Requirement already satisfied: pycparser in c:\\users\\rabi kumar\\anaconda3\\lib\\site-packages (from cffi>=1.14->trio~=0.17->selenium) (2.21)\n",
      "Requirement already satisfied: h11<1,>=0.9.0 in c:\\users\\rabi kumar\\anaconda3\\lib\\site-packages (from wsproto>=0.14->trio-websocket~=0.9->selenium) (0.14.0)\n"
     ]
    }
   ],
   "source": [
    "!pip install selenium"
   ]
  },
  {
   "cell_type": "markdown",
   "id": "0b841c2b",
   "metadata": {},
   "source": [
    "### 1. Write a python program which searches all the product under a particular product from www.amazon.in. The \n",
    "product to be searched will be taken as input from user. For e.g. If user input is ‘guitar’. Then search for \n",
    "guitars."
   ]
  },
  {
   "cell_type": "code",
   "execution_count": 2,
   "id": "52236ce2",
   "metadata": {},
   "outputs": [],
   "source": [
    "import selenium\n",
    "\n",
    "import pandas as pd\n",
    "\n",
    "from selenium import webdriver\n",
    "\n",
    "import warnings\n",
    "warnings.filterwarnings('ignore')\n",
    "\n",
    "from selenium.common.exceptions import StaleElementReferenceException,NoSuchElementException\n",
    "\n",
    "from selenium.webdriver.common.by import By\n",
    "\n",
    "import time\n",
    "\n",
    "\n",
    "from bs4 import BeautifulSoup\n",
    "import requests"
   ]
  },
  {
   "cell_type": "markdown",
   "id": "dd88e490",
   "metadata": {},
   "source": [
    "Now we will download the webDriver for the web Browser Step for download are- 1.Check the version of your browser 2.go to the link https://chromedriver.chromium.org/downloads 3.Download the webdriver for your version of your browser."
   ]
  },
  {
   "cell_type": "code",
   "execution_count": 8,
   "id": "72c7960e",
   "metadata": {},
   "outputs": [],
   "source": [
    "driver=webdriver.Chrome(r\"C:\\Users\\Rabi Kumar\\Downloads\\File\\chormedriver.exe\")"
   ]
  },
  {
   "cell_type": "code",
   "execution_count": 71,
   "id": "5f608a32",
   "metadata": {},
   "outputs": [
    {
     "name": "stdout",
     "output_type": "stream",
     "text": [
      "enter your item:guitar\n"
     ]
    }
   ],
   "source": [
    "val=input('enter your item:')"
   ]
  },
  {
   "cell_type": "markdown",
   "id": "d482e095",
   "metadata": {},
   "source": [
    "### 2. In the above question, now scrape the following details of each product listed in first 3 pages of your search \n",
    "results and save it in a data frame and csv. In case if any product has less than 3 pages in search results then \n",
    "scrape all the products available under that product name. Details to be scraped are: \"Brand \n",
    "Name\", \"Name of the Product\", \"Price\", \"Return/Exchange\", \"Expected Delivery\", \"Availability\" and \n",
    "“Product URL”. In case, if any of the details are missing for any of the product then replace it by “-“. "
   ]
  },
  {
   "cell_type": "code",
   "execution_count": 9,
   "id": "45235a40",
   "metadata": {},
   "outputs": [],
   "source": [
    "# opening the naukri page on automated chorme browser\n",
    "\n",
    "driver.get(\"https://www.amazon.in\")"
   ]
  },
  {
   "cell_type": "code",
   "execution_count": 10,
   "id": "3b307a8f",
   "metadata": {},
   "outputs": [],
   "source": [
    "driver.maximize_window()"
   ]
  },
  {
   "cell_type": "code",
   "execution_count": 11,
   "id": "0d14fede",
   "metadata": {},
   "outputs": [],
   "source": [
    "# entering laptop as required in the question-\n",
    "\n",
    "product=driver.find_element(By.ID,\"twotabsearchtextbox\")\n",
    "\n",
    "product.send_keys('guitar')"
   ]
  },
  {
   "cell_type": "code",
   "execution_count": 12,
   "id": "517da874",
   "metadata": {},
   "outputs": [],
   "source": [
    "search=driver.find_element(By.ID,\"nav-search-submit-button\")\n",
    "search.click()"
   ]
  },
  {
   "cell_type": "code",
   "execution_count": 13,
   "id": "0abc574e",
   "metadata": {},
   "outputs": [],
   "source": [
    "product_urls=[]\n",
    "start=0\n",
    "end=2\n",
    "for page in range (start,end):\n",
    "    url=driver.find_elements(By.XPATH,'//a[@class=\"a-link-normal s-underline-text s-underline-link-text s-link-style a-text-normal\"]')\n",
    "    for i in url[0:10]:\n",
    "        product_urls.append(i.get_attribute(\"href\"))\n",
    "    next_button=driver.find_element(By.XPATH,'//a[@class=\"s-pagination-item s-pagination-next s-pagination-button s-pagination-separator\"]')\n",
    "    next_button.click()\n",
    "    time.sleep(3)"
   ]
  },
  {
   "cell_type": "code",
   "execution_count": 14,
   "id": "02bca807",
   "metadata": {},
   "outputs": [
    {
     "data": {
      "text/plain": [
       "20"
      ]
     },
     "execution_count": 14,
     "metadata": {},
     "output_type": "execute_result"
    }
   ],
   "source": [
    "len(product_urls)"
   ]
  },
  {
   "cell_type": "code",
   "execution_count": 16,
   "id": "c9130d3e",
   "metadata": {},
   "outputs": [],
   "source": [
    "Brand_Name=[]\n",
    "Name_of_the_Product=[]\n",
    "Price=[]\n",
    "Return_Exchange=[]\n",
    "Expected_Delivery=[]\n",
    "Availability=[]\n"
   ]
  },
  {
   "cell_type": "code",
   "execution_count": 17,
   "id": "23440cb0",
   "metadata": {},
   "outputs": [],
   "source": [
    "# scraping Brand Name from the given page\n",
    "\n",
    "for url in product_urls:\n",
    "    driver.get(url)\n",
    "    time.sleep(2)\n",
    "    \n",
    "    try:\n",
    "        brand=driver.find_element(By.XPATH,'//span[@class=\"a-size-base po-break-word\"]')\n",
    "        Brand_Name.append(brand.text)\n",
    "    except NoSuchElementException:\n",
    "        Brand.append('-')\n",
    "        \n",
    "# scraping  Name_of_the_Product from the given page\n",
    "\n",
    "    try:\n",
    "        name=driver.find_element(By.XPATH,'//span[@class=\"a-size-base a-color-base inline-twister-dim-title-value a-text-bold\"]')\n",
    "        Name_of_the_Product.append(name.text)\n",
    "    except NoSuchElementException:\n",
    "        Name_of_the_Product.append('-') \n",
    "        \n",
    "        \n",
    "# scraping  Price from the given page\n",
    "\n",
    "    try:\n",
    "        price=driver.find_element(By.XPATH,'//span[@class=\"a-price-whole\"]')\n",
    "        Price.append(price.text)\n",
    "    except NoSuchElementException:\n",
    "        Price.append('-')        \n",
    "        \n",
    "# scraping  Return_Exchange from the given page\n",
    "\n",
    "    try:\n",
    "        return_exchange=driver.find_element(By.XPATH,'//a[@class=\"a-size-small a-link-normal a-text-normal\"]')\n",
    "        Return_Exchange.append(return_exchange.text)\n",
    "    except NoSuchElementException:\n",
    "        Return_Exchange.append('-')           \n",
    "        \n",
    "        \n",
    "# scraping  Expected Delivery from the given page\n",
    "\n",
    "    try:\n",
    "        delivery=driver.find_element(By.XPATH,'//span[@class=\"a-text-bold\"]')\n",
    "        Expected_Delivery.append(delivery.text)\n",
    "    except NoSuchElementException:\n",
    "        Expected_Delivery.append('-')\n",
    "\n",
    "# scraping  Availability from the given page\n",
    "\n",
    "    try:\n",
    "        availability=driver.find_element(By.XPATH,'//span[@class=\"a-size-medium a-color-success\"]')\n",
    "        Availability.append(availability.text)\n",
    "    except NoSuchElementException:\n",
    "        Availability.append('-')\n",
    "\n",
    "\n"
   ]
  },
  {
   "cell_type": "code",
   "execution_count": 18,
   "id": "c5ab4316",
   "metadata": {},
   "outputs": [
    {
     "data": {
      "text/plain": [
       "(20, 20, 20, 20, 20, 20, 20)"
      ]
     },
     "execution_count": 18,
     "metadata": {},
     "output_type": "execute_result"
    }
   ],
   "source": [
    "len(product_urls),len(Return_Exchange),len(Brand_Name),len(Name_of_the_Product),len(Price),len(Return_Exchange),len(Expected_Delivery),len(Availability)"
   ]
  },
  {
   "cell_type": "code",
   "execution_count": 25,
   "id": "6867c58a",
   "metadata": {},
   "outputs": [
    {
     "data": {
      "text/html": [
       "<div>\n",
       "<style scoped>\n",
       "    .dataframe tbody tr th:only-of-type {\n",
       "        vertical-align: middle;\n",
       "    }\n",
       "\n",
       "    .dataframe tbody tr th {\n",
       "        vertical-align: top;\n",
       "    }\n",
       "\n",
       "    .dataframe thead th {\n",
       "        text-align: right;\n",
       "    }\n",
       "</style>\n",
       "<table border=\"1\" class=\"dataframe\">\n",
       "  <thead>\n",
       "    <tr style=\"text-align: right;\">\n",
       "      <th></th>\n",
       "      <th>Brand_Name</th>\n",
       "      <th>Name_of_the_Product</th>\n",
       "      <th>Price</th>\n",
       "      <th>Return_Exchange</th>\n",
       "      <th>Expected_Delivery</th>\n",
       "      <th>Availability</th>\n",
       "      <th>product_urls</th>\n",
       "    </tr>\n",
       "  </thead>\n",
       "  <tbody>\n",
       "    <tr>\n",
       "      <th>0</th>\n",
       "      <td>Medellin</td>\n",
       "      <td>white</td>\n",
       "      <td>2,499</td>\n",
       "      <td>Free Delivery</td>\n",
       "      <td>Thursday, 20 April</td>\n",
       "      <td>In stock</td>\n",
       "      <td>https://www.amazon.in/sspa/click?ie=UTF8&amp;spc=M...</td>\n",
       "    </tr>\n",
       "    <tr>\n",
       "      <th>1</th>\n",
       "      <td>Kadence</td>\n",
       "      <td>black</td>\n",
       "      <td>6,899</td>\n",
       "      <td>Free Delivery</td>\n",
       "      <td>Thursday, 20 April</td>\n",
       "      <td>In stock</td>\n",
       "      <td>https://www.amazon.in/sspa/click?ie=UTF8&amp;spc=M...</td>\n",
       "    </tr>\n",
       "    <tr>\n",
       "      <th>2</th>\n",
       "      <td>Kadence</td>\n",
       "      <td>Brown</td>\n",
       "      <td>4,999</td>\n",
       "      <td>Free Delivery</td>\n",
       "      <td>Thursday, 20 April</td>\n",
       "      <td>In stock</td>\n",
       "      <td>https://www.amazon.in/sspa/click?ie=UTF8&amp;spc=M...</td>\n",
       "    </tr>\n",
       "    <tr>\n",
       "      <th>3</th>\n",
       "      <td>Fender</td>\n",
       "      <td>-</td>\n",
       "      <td>13,340</td>\n",
       "      <td>7 days Replacement</td>\n",
       "      <td>Add a Protection Plan:</td>\n",
       "      <td>-</td>\n",
       "      <td>https://www.amazon.in/sspa/click?ie=UTF8&amp;spc=M...</td>\n",
       "    </tr>\n",
       "    <tr>\n",
       "      <th>4</th>\n",
       "      <td>JUAREZ</td>\n",
       "      <td>-</td>\n",
       "      <td>1,999</td>\n",
       "      <td>Free Delivery</td>\n",
       "      <td>Friday, 21 April</td>\n",
       "      <td>In stock</td>\n",
       "      <td>https://www.amazon.in/Juarez-Acoustic-Cutaway-...</td>\n",
       "    </tr>\n",
       "    <tr>\n",
       "      <th>5</th>\n",
       "      <td>Intern</td>\n",
       "      <td>Black</td>\n",
       "      <td>2,399</td>\n",
       "      <td>Free Delivery</td>\n",
       "      <td>Friday, 21 April</td>\n",
       "      <td>In stock</td>\n",
       "      <td>https://www.amazon.in/Intern-INT-38C-Acoustic-...</td>\n",
       "    </tr>\n",
       "    <tr>\n",
       "      <th>6</th>\n",
       "      <td>YAMAHA</td>\n",
       "      <td>-</td>\n",
       "      <td>7,200</td>\n",
       "      <td>Free Delivery</td>\n",
       "      <td>Thursday, 20 April</td>\n",
       "      <td>In stock</td>\n",
       "      <td>https://www.amazon.in/Yamaha-F280-Acoustic-Gui...</td>\n",
       "    </tr>\n",
       "    <tr>\n",
       "      <th>7</th>\n",
       "      <td>JUAREZ</td>\n",
       "      <td>-</td>\n",
       "      <td>1,999</td>\n",
       "      <td>Free Delivery</td>\n",
       "      <td>Friday, 21 April</td>\n",
       "      <td>In stock</td>\n",
       "      <td>https://www.amazon.in/JUAREZ-JRZ38C-Acoustic-S...</td>\n",
       "    </tr>\n",
       "    <tr>\n",
       "      <th>8</th>\n",
       "      <td>JUAREZ</td>\n",
       "      <td>-</td>\n",
       "      <td>1,999</td>\n",
       "      <td>Free Delivery</td>\n",
       "      <td>Friday, 21 April</td>\n",
       "      <td>In stock</td>\n",
       "      <td>https://www.amazon.in/JUAREZ-JRZ38C-Acoustic-S...</td>\n",
       "    </tr>\n",
       "    <tr>\n",
       "      <th>9</th>\n",
       "      <td>Intern</td>\n",
       "      <td>Blue</td>\n",
       "      <td>2,255</td>\n",
       "      <td>Free Delivery</td>\n",
       "      <td>Friday, 21 April</td>\n",
       "      <td>In stock</td>\n",
       "      <td>https://www.amazon.in/Intern-INT-38C-Acoustic-...</td>\n",
       "    </tr>\n",
       "    <tr>\n",
       "      <th>10</th>\n",
       "      <td>Multicolor</td>\n",
       "      <td>-</td>\n",
       "      <td>999</td>\n",
       "      <td>Free Delivery</td>\n",
       "      <td>Monday, 24 April</td>\n",
       "      <td>In stock</td>\n",
       "      <td>https://www.amazon.in/sspa/click?ie=UTF8&amp;spc=M...</td>\n",
       "    </tr>\n",
       "    <tr>\n",
       "      <th>11</th>\n",
       "      <td>Intern</td>\n",
       "      <td>Black</td>\n",
       "      <td>4,671</td>\n",
       "      <td>Free Delivery</td>\n",
       "      <td>Thursday, 20 April</td>\n",
       "      <td>In stock</td>\n",
       "      <td>https://www.amazon.in/sspa/click?ie=UTF8&amp;spc=M...</td>\n",
       "    </tr>\n",
       "    <tr>\n",
       "      <th>12</th>\n",
       "      <td>blueberry</td>\n",
       "      <td>-</td>\n",
       "      <td>3,290</td>\n",
       "      <td>Free Delivery</td>\n",
       "      <td>Monday, 24 April</td>\n",
       "      <td>In stock</td>\n",
       "      <td>https://www.amazon.in/sspa/click?ie=UTF8&amp;spc=M...</td>\n",
       "    </tr>\n",
       "    <tr>\n",
       "      <th>13</th>\n",
       "      <td>blueberry</td>\n",
       "      <td>-</td>\n",
       "      <td>3,290</td>\n",
       "      <td>Free Delivery</td>\n",
       "      <td>Monday, 24 April</td>\n",
       "      <td>In stock</td>\n",
       "      <td>https://www.amazon.in/sspa/click?ie=UTF8&amp;spc=M...</td>\n",
       "    </tr>\n",
       "    <tr>\n",
       "      <th>14</th>\n",
       "      <td>Fender</td>\n",
       "      <td>-</td>\n",
       "      <td>20,800</td>\n",
       "      <td>Free Delivery</td>\n",
       "      <td>Friday, 21 April</td>\n",
       "      <td>-</td>\n",
       "      <td>https://www.amazon.in/Fender-60S-Dreadnought-A...</td>\n",
       "    </tr>\n",
       "    <tr>\n",
       "      <th>15</th>\n",
       "      <td>JUAREZ</td>\n",
       "      <td>-</td>\n",
       "      <td>2,699</td>\n",
       "      <td>Free Delivery</td>\n",
       "      <td>Friday, 21 April</td>\n",
       "      <td>In stock</td>\n",
       "      <td>https://www.amazon.in/Acoustic-Cutaway-3TS-Str...</td>\n",
       "    </tr>\n",
       "    <tr>\n",
       "      <th>16</th>\n",
       "      <td>Intern</td>\n",
       "      <td>Stripes</td>\n",
       "      <td>5,883</td>\n",
       "      <td>Free Delivery</td>\n",
       "      <td>Thursday, 20 April</td>\n",
       "      <td>In stock</td>\n",
       "      <td>https://www.amazon.in/Acoustic-Pick-up-stabili...</td>\n",
       "    </tr>\n",
       "    <tr>\n",
       "      <th>17</th>\n",
       "      <td>VAULT</td>\n",
       "      <td>Green Burst</td>\n",
       "      <td>10,999</td>\n",
       "      <td>Free Delivery</td>\n",
       "      <td>Friday, 21 April</td>\n",
       "      <td>In stock</td>\n",
       "      <td>https://www.amazon.in/Soloist-Premium-Electric...</td>\n",
       "    </tr>\n",
       "    <tr>\n",
       "      <th>18</th>\n",
       "      <td>Medellin</td>\n",
       "      <td>-</td>\n",
       "      <td>1,999</td>\n",
       "      <td>Free Delivery</td>\n",
       "      <td>Thursday, 20 April</td>\n",
       "      <td>In stock</td>\n",
       "      <td>https://www.amazon.in/Medellin-MED-BLU-C-Linde...</td>\n",
       "    </tr>\n",
       "    <tr>\n",
       "      <th>19</th>\n",
       "      <td>Intern</td>\n",
       "      <td>Black</td>\n",
       "      <td>4,671</td>\n",
       "      <td>Free Delivery</td>\n",
       "      <td>Thursday, 20 April</td>\n",
       "      <td>In stock</td>\n",
       "      <td>https://www.amazon.in/Acoustic-Pick-up-stabili...</td>\n",
       "    </tr>\n",
       "  </tbody>\n",
       "</table>\n",
       "</div>"
      ],
      "text/plain": [
       "    Brand_Name Name_of_the_Product   Price     Return_Exchange  \\\n",
       "0     Medellin               white   2,499       Free Delivery   \n",
       "1      Kadence               black   6,899       Free Delivery   \n",
       "2      Kadence               Brown   4,999       Free Delivery   \n",
       "3       Fender                   -  13,340  7 days Replacement   \n",
       "4       JUAREZ                   -   1,999       Free Delivery   \n",
       "5       Intern               Black   2,399       Free Delivery   \n",
       "6       YAMAHA                   -   7,200       Free Delivery   \n",
       "7       JUAREZ                   -   1,999       Free Delivery   \n",
       "8       JUAREZ                   -   1,999       Free Delivery   \n",
       "9       Intern                Blue   2,255       Free Delivery   \n",
       "10  Multicolor                   -     999       Free Delivery   \n",
       "11      Intern               Black   4,671       Free Delivery   \n",
       "12   blueberry                   -   3,290       Free Delivery   \n",
       "13   blueberry                   -   3,290       Free Delivery   \n",
       "14      Fender                   -  20,800       Free Delivery   \n",
       "15      JUAREZ                   -   2,699       Free Delivery   \n",
       "16      Intern             Stripes   5,883       Free Delivery   \n",
       "17       VAULT         Green Burst  10,999       Free Delivery   \n",
       "18    Medellin                   -   1,999       Free Delivery   \n",
       "19      Intern               Black   4,671       Free Delivery   \n",
       "\n",
       "         Expected_Delivery Availability  \\\n",
       "0       Thursday, 20 April     In stock   \n",
       "1       Thursday, 20 April     In stock   \n",
       "2       Thursday, 20 April     In stock   \n",
       "3   Add a Protection Plan:            -   \n",
       "4         Friday, 21 April     In stock   \n",
       "5         Friday, 21 April     In stock   \n",
       "6       Thursday, 20 April     In stock   \n",
       "7         Friday, 21 April     In stock   \n",
       "8         Friday, 21 April     In stock   \n",
       "9         Friday, 21 April     In stock   \n",
       "10        Monday, 24 April     In stock   \n",
       "11      Thursday, 20 April     In stock   \n",
       "12        Monday, 24 April     In stock   \n",
       "13        Monday, 24 April     In stock   \n",
       "14        Friday, 21 April            -   \n",
       "15        Friday, 21 April     In stock   \n",
       "16      Thursday, 20 April     In stock   \n",
       "17        Friday, 21 April     In stock   \n",
       "18      Thursday, 20 April     In stock   \n",
       "19      Thursday, 20 April     In stock   \n",
       "\n",
       "                                         product_urls  \n",
       "0   https://www.amazon.in/sspa/click?ie=UTF8&spc=M...  \n",
       "1   https://www.amazon.in/sspa/click?ie=UTF8&spc=M...  \n",
       "2   https://www.amazon.in/sspa/click?ie=UTF8&spc=M...  \n",
       "3   https://www.amazon.in/sspa/click?ie=UTF8&spc=M...  \n",
       "4   https://www.amazon.in/Juarez-Acoustic-Cutaway-...  \n",
       "5   https://www.amazon.in/Intern-INT-38C-Acoustic-...  \n",
       "6   https://www.amazon.in/Yamaha-F280-Acoustic-Gui...  \n",
       "7   https://www.amazon.in/JUAREZ-JRZ38C-Acoustic-S...  \n",
       "8   https://www.amazon.in/JUAREZ-JRZ38C-Acoustic-S...  \n",
       "9   https://www.amazon.in/Intern-INT-38C-Acoustic-...  \n",
       "10  https://www.amazon.in/sspa/click?ie=UTF8&spc=M...  \n",
       "11  https://www.amazon.in/sspa/click?ie=UTF8&spc=M...  \n",
       "12  https://www.amazon.in/sspa/click?ie=UTF8&spc=M...  \n",
       "13  https://www.amazon.in/sspa/click?ie=UTF8&spc=M...  \n",
       "14  https://www.amazon.in/Fender-60S-Dreadnought-A...  \n",
       "15  https://www.amazon.in/Acoustic-Cutaway-3TS-Str...  \n",
       "16  https://www.amazon.in/Acoustic-Pick-up-stabili...  \n",
       "17  https://www.amazon.in/Soloist-Premium-Electric...  \n",
       "18  https://www.amazon.in/Medellin-MED-BLU-C-Linde...  \n",
       "19  https://www.amazon.in/Acoustic-Pick-up-stabili...  "
      ]
     },
     "execution_count": 25,
     "metadata": {},
     "output_type": "execute_result"
    }
   ],
   "source": [
    "import pandas as pd\n",
    "df=pd.DataFrame({'Brand_Name':Brand_Name,'Name_of_the_Product':Name_of_the_Product,'Price':Price,'Return_Exchange':Return_Exchange,'Expected_Delivery':Expected_Delivery,'Availability':Availability,'product_urls':product_urls})\n",
    "df"
   ]
  },
  {
   "cell_type": "code",
   "execution_count": 27,
   "id": "aaf137a9",
   "metadata": {},
   "outputs": [],
   "source": [
    "df.to_csv('guiter_data.csv',index=False)"
   ]
  },
  {
   "cell_type": "code",
   "execution_count": null,
   "id": "dce137ce",
   "metadata": {},
   "outputs": [],
   "source": []
  },
  {
   "cell_type": "code",
   "execution_count": null,
   "id": "596ddfbe",
   "metadata": {},
   "outputs": [],
   "source": []
  },
  {
   "cell_type": "markdown",
   "id": "97458d04",
   "metadata": {},
   "source": [
    "### 7. Write a python program to scrape the details for all billionaires from www.forbes.com. Details to be scrapped: \n",
    "“Rank”, “Name”, “Net worth”, “Age”, “Citizenship”, “Source”, “Industry”."
   ]
  },
  {
   "cell_type": "code",
   "execution_count": 19,
   "id": "66d57d3f",
   "metadata": {},
   "outputs": [],
   "source": [
    "import selenium\n",
    "\n",
    "import pandas as pd\n",
    "\n",
    "from selenium import webdriver\n",
    "\n",
    "import warnings\n",
    "warnings.filterwarnings('ignore')\n",
    "\n",
    "from selenium.common.exceptions import StaleElementReferenceException,NoSuchElementException\n",
    "\n",
    "from selenium.webdriver.common.by import By\n",
    "\n",
    "import time"
   ]
  },
  {
   "cell_type": "code",
   "execution_count": 20,
   "id": "d4d24c83",
   "metadata": {},
   "outputs": [],
   "source": [
    "driver=webdriver.Chrome(r\"C:\\Users\\Rabi\\flip\\chormedriver.exe\")"
   ]
  },
  {
   "cell_type": "code",
   "execution_count": 21,
   "id": "0fb13e1a",
   "metadata": {},
   "outputs": [],
   "source": [
    "driver.get(\"https://www.forbes.com/billionaires/\")"
   ]
  },
  {
   "cell_type": "code",
   "execution_count": 22,
   "id": "66fd063d",
   "metadata": {},
   "outputs": [],
   "source": [
    "driver.maximize_window()"
   ]
  },
  {
   "cell_type": "code",
   "execution_count": 33,
   "id": "44334dd4",
   "metadata": {},
   "outputs": [],
   "source": [
    "Rank=[]\n",
    "Name=[]\n",
    "Net_worth=[]\n",
    "Age=[]\n",
    "Citizenship=[]\n",
    "Source=[]\n",
    "Industry=[]"
   ]
  },
  {
   "cell_type": "code",
   "execution_count": 34,
   "id": "c321d31b",
   "metadata": {},
   "outputs": [],
   "source": [
    "# scraping Rank from the given page\n",
    "\n",
    "rank_tags=driver.find_elements(By.XPATH,'//div[@class=\"Table_rank___YBhk Table_dataCell__2QCve\"]')\n",
    "for i in rank_tags[0:200]:\n",
    "    rank=i.text\n",
    "    Rank.append(rank)\n",
    "    \n",
    "# scraping Name from the given page\n",
    "\n",
    "name_tags=driver.find_elements(By.XPATH,'//div[@class=\"Table_dataCell__2QCve\"]')\n",
    "for i in name_tags[0:200]:\n",
    "    name=i.text\n",
    "    Name.append(name)\n",
    "    \n",
    "# scraping Net worth from the given page\n",
    "\n",
    "net_tags=driver.find_elements(By.XPATH,'//div[@class=\"Table_netWorth___L4R5 Table_dataCell__2QCve\"]')\n",
    "for i in net_tags[0:200]:\n",
    "    net=i.text\n",
    "    Net_worth.append(net)\n",
    "    \n",
    "# scraping age from the given page\n",
    "\n",
    "age_tags=driver.find_elements(By.XPATH,'//div[@class=\"Table_dataCell__2QCve\"]')\n",
    "for i in age_tags[0:200]:\n",
    "    age=i.text\n",
    "    Age.append(age)\n",
    "    \n",
    "# scraping Citizenship from the given page\n",
    "\n",
    "citizen_tags=driver.find_elements(By.XPATH,'//div[@class=\"TableRow_cell__db-hv Table_cell__houv9\"]')\n",
    "for i in citizen_tags[0:200]:\n",
    "    citizen=i.text\n",
    "    Citizenship.append(citizen)\n",
    "    \n",
    "# scraping Source from the given page\n",
    "\n",
    "source_tags=driver.find_elements(By.XPATH,'//div[@class=\"Table_dataCell__2QCve\"]')\n",
    "for i in source_tags[0:200]:\n",
    "    source=i.text\n",
    "    Source.append(source)\n",
    "    \n",
    "# scraping Industry from the given page\n",
    "\n",
    "ind_tags=driver.find_elements(By.XPATH,'//div[@class=\"Table_dataCell__2QCve\"]')\n",
    "for i in ind_tags[0:200]:\n",
    "    ind=i.text\n",
    "    Industry.append(ind)"
   ]
  },
  {
   "cell_type": "code",
   "execution_count": 35,
   "id": "b9d3db7b",
   "metadata": {},
   "outputs": [
    {
     "name": "stdout",
     "output_type": "stream",
     "text": [
      "200 200 200 200 200 200 200\n"
     ]
    }
   ],
   "source": [
    "print(len(Rank),len(Name),len(Net_worth),len(Age),len(Citizenship),len(Source),len(Industry))"
   ]
  },
  {
   "cell_type": "code",
   "execution_count": null,
   "id": "87b0199d",
   "metadata": {},
   "outputs": [],
   "source": []
  },
  {
   "cell_type": "markdown",
   "id": "0ab7acfb",
   "metadata": {},
   "source": [
    "### 3. Write a python program to access the search bar and search button on images.google.com and scrape 10 \n",
    "images each for keywords ‘fruits’, ‘cars’ and ‘Machine Learning’, ‘Guitar’, ‘Cakes’. "
   ]
  },
  {
   "cell_type": "markdown",
   "id": "084f8f79",
   "metadata": {},
   "source": [
    "### Cakes"
   ]
  },
  {
   "cell_type": "code",
   "execution_count": 21,
   "id": "0ea5847c",
   "metadata": {},
   "outputs": [],
   "source": [
    "import selenium\n",
    "\n",
    "import pandas as pd\n",
    "\n",
    "from selenium import webdriver\n",
    "\n",
    "import warnings\n",
    "warnings.filterwarnings('ignore')\n",
    "\n",
    "from selenium.common.exceptions import StaleElementReferenceException,NoSuchElementException\n",
    "\n",
    "from selenium.webdriver.common.by import By\n",
    "\n",
    "import time\n",
    "import requests\n",
    "from bs4 import BeautifulSoup\n"
   ]
  },
  {
   "cell_type": "code",
   "execution_count": 41,
   "id": "c6652ea2",
   "metadata": {},
   "outputs": [],
   "source": [
    "driver=webdriver.Chrome(r\"C:\\Users\\Rabi\\flip\\chormedriver.exe\")"
   ]
  },
  {
   "cell_type": "code",
   "execution_count": 42,
   "id": "f7799a2e",
   "metadata": {},
   "outputs": [],
   "source": [
    "driver.get(\"https://www.google.co.in/imghp?hl=en&ogbl\")"
   ]
  },
  {
   "cell_type": "code",
   "execution_count": 43,
   "id": "16d1bf6f",
   "metadata": {},
   "outputs": [],
   "source": [
    "driver.maximize_window()"
   ]
  },
  {
   "cell_type": "code",
   "execution_count": 44,
   "id": "8b295ca9",
   "metadata": {},
   "outputs": [],
   "source": [
    "product=driver.find_element(By.XPATH,\"/html/body/div[1]/div[3]/form/div[1]/div[1]/div[1]/div/div[2]/textarea\")\n",
    "product.send_keys('cakes')\n"
   ]
  },
  {
   "cell_type": "code",
   "execution_count": 45,
   "id": "6636bb0b",
   "metadata": {},
   "outputs": [],
   "source": [
    "search=driver.find_element(By.CLASS_NAME,\"zgAlFc\")\n",
    "search.click()"
   ]
  },
  {
   "cell_type": "code",
   "execution_count": 46,
   "id": "d89e89af",
   "metadata": {},
   "outputs": [
    {
     "name": "stdout",
     "output_type": "stream",
     "text": [
      "Downloading0 of 10 images\n",
      "Downloading1 of 10 images\n",
      "Downloading2 of 10 images\n",
      "Downloading3 of 10 images\n",
      "Downloading4 of 10 images\n",
      "Downloading5 of 10 images\n",
      "Downloading6 of 10 images\n",
      "Downloading7 of 10 images\n",
      "Downloading8 of 10 images\n",
      "Downloading9 of 10 images\n",
      "Downloading10 of 10 images\n"
     ]
    }
   ],
   "source": [
    "for _ in range(20):\n",
    "    driver.execute_script(\"window.scrollBy(0,100)\")\n",
    "    \n",
    "images=driver.find_elements(By.XPATH,'//img[@class=\"rg_i Q4LuWd\"]')\n",
    "\n",
    "img_urls=[]\n",
    "img_data=[]\n",
    "\n",
    "for image in images:\n",
    "    source=image.get_attribute('src')\n",
    "    if source is not None:\n",
    "        if (source[0:4]=='http'):\n",
    "            img_urls.append(source)\n",
    "            \n",
    "for i in range(len(img_urls)):\n",
    "    if i > 10:\n",
    "        break\n",
    "    print(\"Downloading{0} of {1} images\".format(i,10))\n",
    "    response=requests.get(img_urls[i])\n",
    "    file=open(r\"C:\\Users\\Rabi Kumar\\Downloads\\pro\"+str(i)+\".jpg\",\"wb\")\n",
    "    file.write(response.content)"
   ]
  },
  {
   "cell_type": "markdown",
   "id": "0a81a944",
   "metadata": {},
   "source": [
    "### fruits"
   ]
  },
  {
   "cell_type": "code",
   "execution_count": 35,
   "id": "ab866ed2",
   "metadata": {},
   "outputs": [],
   "source": [
    "driver=webdriver.Chrome(r\"C:\\Users\\Rabi\\flip\\chormedriver.exe\")"
   ]
  },
  {
   "cell_type": "code",
   "execution_count": 36,
   "id": "5d8ab061",
   "metadata": {},
   "outputs": [],
   "source": [
    "driver.get(\"https://www.google.co.in/imghp?hl=en&ogbl\")"
   ]
  },
  {
   "cell_type": "code",
   "execution_count": 37,
   "id": "977cd58d",
   "metadata": {},
   "outputs": [],
   "source": [
    "driver.maximize_window()"
   ]
  },
  {
   "cell_type": "code",
   "execution_count": 38,
   "id": "90271ae1",
   "metadata": {},
   "outputs": [],
   "source": [
    "product=driver.find_element(By.XPATH,\"/html/body/div[1]/div[3]/form/div[1]/div[1]/div[1]/div/div[2]/textarea\")\n",
    "product.send_keys('fruits')"
   ]
  },
  {
   "cell_type": "code",
   "execution_count": 39,
   "id": "64d07f4d",
   "metadata": {},
   "outputs": [],
   "source": [
    "search=driver.find_element(By.CLASS_NAME,\"zgAlFc\")\n",
    "search.click()"
   ]
  },
  {
   "cell_type": "code",
   "execution_count": 40,
   "id": "399d6f53",
   "metadata": {},
   "outputs": [
    {
     "name": "stdout",
     "output_type": "stream",
     "text": [
      "Downloading0 of 10 images\n",
      "Downloading1 of 10 images\n",
      "Downloading2 of 10 images\n",
      "Downloading3 of 10 images\n",
      "Downloading4 of 10 images\n",
      "Downloading5 of 10 images\n",
      "Downloading6 of 10 images\n",
      "Downloading7 of 10 images\n",
      "Downloading8 of 10 images\n",
      "Downloading9 of 10 images\n",
      "Downloading10 of 10 images\n"
     ]
    }
   ],
   "source": [
    "for _ in range(20):\n",
    "    driver.execute_script(\"window.scrollBy(0,100)\")\n",
    "    \n",
    "images=driver.find_elements(By.XPATH,'//img[@class=\"rg_i Q4LuWd\"]')\n",
    "\n",
    "img_urls=[]\n",
    "img_data=[]\n",
    "\n",
    "for image in images:\n",
    "    source=image.get_attribute('src')\n",
    "    if source is not None:\n",
    "        if (source[0:4]=='http'):\n",
    "            img_urls.append(source)\n",
    "            \n",
    "for i in range(len(img_urls)):\n",
    "    if i > 10:\n",
    "        break\n",
    "    print(\"Downloading{0} of {1} images\" .format(i,10))\n",
    "    response=requests.get(img_urls[i])\n",
    "    file=open(r\"C:\\Users\\Rabi Kumar\\Downloads\\pro\"+str(i)+\".jpg\",\"wb\")\n",
    "    file.write(response.content)"
   ]
  },
  {
   "cell_type": "markdown",
   "id": "9dafb44b",
   "metadata": {},
   "source": [
    "### Cars"
   ]
  },
  {
   "cell_type": "code",
   "execution_count": 47,
   "id": "040ea005",
   "metadata": {},
   "outputs": [],
   "source": [
    "driver=webdriver.Chrome(r\"C:\\Users\\Rabi\\flip\\chormedriver.exe\")"
   ]
  },
  {
   "cell_type": "code",
   "execution_count": 48,
   "id": "9410a33d",
   "metadata": {},
   "outputs": [],
   "source": [
    "driver.get(\"https://www.google.co.in/imghp?hl=en&ogbl\")"
   ]
  },
  {
   "cell_type": "code",
   "execution_count": 49,
   "id": "a39a211a",
   "metadata": {},
   "outputs": [],
   "source": [
    "driver.maximize_window()"
   ]
  },
  {
   "cell_type": "code",
   "execution_count": 50,
   "id": "5c48d17b",
   "metadata": {},
   "outputs": [],
   "source": [
    "product=driver.find_element(By.XPATH,\"/html/body/div[1]/div[3]/form/div[1]/div[1]/div[1]/div/div[2]/textarea\")\n",
    "product.send_keys('cars')"
   ]
  },
  {
   "cell_type": "code",
   "execution_count": 51,
   "id": "47babdaf",
   "metadata": {},
   "outputs": [],
   "source": [
    "search=driver.find_element(By.CLASS_NAME,\"zgAlFc\")\n",
    "search.click()"
   ]
  },
  {
   "cell_type": "code",
   "execution_count": 52,
   "id": "31ecb25c",
   "metadata": {},
   "outputs": [
    {
     "name": "stdout",
     "output_type": "stream",
     "text": [
      "Downloading0 of 10 images\n",
      "Downloading1 of 10 images\n",
      "Downloading2 of 10 images\n",
      "Downloading3 of 10 images\n",
      "Downloading4 of 10 images\n",
      "Downloading5 of 10 images\n",
      "Downloading6 of 10 images\n",
      "Downloading7 of 10 images\n",
      "Downloading8 of 10 images\n",
      "Downloading9 of 10 images\n",
      "Downloading10 of 10 images\n"
     ]
    }
   ],
   "source": [
    "for _ in range(20):\n",
    "    driver.execute_script(\"window.scrollBy(0,100)\")\n",
    "    \n",
    "images=driver.find_elements(By.XPATH,'//img[@class=\"rg_i Q4LuWd\"]')\n",
    "\n",
    "img_urls=[]\n",
    "img_data=[]\n",
    "\n",
    "for image in images:\n",
    "    source=image.get_attribute('src')\n",
    "    if source is not None:\n",
    "        if (source[0:4]=='http'):\n",
    "            img_urls.append(source)\n",
    "            \n",
    "for i in range(len(img_urls)):\n",
    "    if i > 10:\n",
    "        break\n",
    "    print(\"Downloading{0} of {1} images\" .format(i,10))\n",
    "    response=requests.get(img_urls[i])\n",
    "    file=open(r\"C:\\Users\\Rabi Kumar\\Downloads\\pro\"+str(i)+\".jpg\",\"wb\")\n",
    "    file.write(response.content)"
   ]
  },
  {
   "cell_type": "markdown",
   "id": "e9daa82f",
   "metadata": {},
   "source": [
    "### Machine Learning"
   ]
  },
  {
   "cell_type": "code",
   "execution_count": 53,
   "id": "d9c58a42",
   "metadata": {},
   "outputs": [],
   "source": [
    "driver=webdriver.Chrome(r\"C:\\Users\\Rabi\\flip\\chormedriver.exe\")"
   ]
  },
  {
   "cell_type": "code",
   "execution_count": 54,
   "id": "69a44575",
   "metadata": {},
   "outputs": [],
   "source": [
    "driver.get(\"https://www.google.co.in/imghp?hl=en&ogbl\")"
   ]
  },
  {
   "cell_type": "code",
   "execution_count": 55,
   "id": "95330176",
   "metadata": {},
   "outputs": [],
   "source": [
    "driver.maximize_window()"
   ]
  },
  {
   "cell_type": "code",
   "execution_count": 56,
   "id": "a15ad5a1",
   "metadata": {},
   "outputs": [],
   "source": [
    "product=driver.find_element(By.XPATH,\"/html/body/div[1]/div[3]/form/div[1]/div[1]/div[1]/div/div[2]/textarea\")\n",
    "product.send_keys('Machine Learning')"
   ]
  },
  {
   "cell_type": "code",
   "execution_count": 57,
   "id": "b153a6e9",
   "metadata": {},
   "outputs": [],
   "source": [
    "search=driver.find_element(By.CLASS_NAME,\"zgAlFc\")\n",
    "search.click()"
   ]
  },
  {
   "cell_type": "code",
   "execution_count": 58,
   "id": "f01ed797",
   "metadata": {},
   "outputs": [
    {
     "name": "stdout",
     "output_type": "stream",
     "text": [
      "Downloading0 of 10 images\n",
      "Downloading1 of 10 images\n",
      "Downloading2 of 10 images\n",
      "Downloading3 of 10 images\n",
      "Downloading4 of 10 images\n",
      "Downloading5 of 10 images\n",
      "Downloading6 of 10 images\n",
      "Downloading7 of 10 images\n",
      "Downloading8 of 10 images\n",
      "Downloading9 of 10 images\n",
      "Downloading10 of 10 images\n"
     ]
    }
   ],
   "source": [
    "for _ in range(20):\n",
    "    driver.execute_script(\"window.scrollBy(0,100)\")\n",
    "    \n",
    "images=driver.find_elements(By.XPATH,'//img[@class=\"rg_i Q4LuWd\"]')\n",
    "\n",
    "img_urls=[]\n",
    "img_data=[]\n",
    "\n",
    "for image in images:\n",
    "    source=image.get_attribute('src')\n",
    "    if source is not None:\n",
    "        if (source[0:4]=='http'):\n",
    "            img_urls.append(source)\n",
    "            \n",
    "for i in range(len(img_urls)):\n",
    "    if i > 10:\n",
    "        break\n",
    "    print(\"Downloading{0} of {1} images\" .format(i,10))\n",
    "    response=requests.get(img_urls[i])\n",
    "    file=open(r\"C:\\Users\\Rabi Kumar\\Downloads\\pro\"+str(i)+\".jpg\",\"wb\")\n",
    "    file.write(response.content)"
   ]
  },
  {
   "cell_type": "markdown",
   "id": "fd1b04c8",
   "metadata": {},
   "source": [
    "### Guitar"
   ]
  },
  {
   "cell_type": "code",
   "execution_count": 63,
   "id": "b70d4039",
   "metadata": {},
   "outputs": [],
   "source": [
    "driver=webdriver.Chrome(r\"C:\\Users\\Rabi\\flip\\chormedriver.exe\")"
   ]
  },
  {
   "cell_type": "code",
   "execution_count": 64,
   "id": "6bda0c2a",
   "metadata": {},
   "outputs": [],
   "source": [
    "driver.get(\"https://www.google.co.in/imghp?hl=en&ogbl\")"
   ]
  },
  {
   "cell_type": "code",
   "execution_count": 65,
   "id": "a7ad4599",
   "metadata": {},
   "outputs": [],
   "source": [
    "driver.maximize_window()"
   ]
  },
  {
   "cell_type": "code",
   "execution_count": 66,
   "id": "6f5bbc27",
   "metadata": {},
   "outputs": [],
   "source": [
    "product=driver.find_element(By.XPATH,\"/html/body/div[1]/div[3]/form/div[1]/div[1]/div[1]/div/div[2]/textarea\")\n",
    "product.send_keys('Guitar')"
   ]
  },
  {
   "cell_type": "code",
   "execution_count": 67,
   "id": "68eefde7",
   "metadata": {},
   "outputs": [],
   "source": [
    "search=driver.find_element(By.CLASS_NAME,\"zgAlFc\")\n",
    "search.click()"
   ]
  },
  {
   "cell_type": "code",
   "execution_count": 68,
   "id": "b2617b63",
   "metadata": {},
   "outputs": [
    {
     "name": "stdout",
     "output_type": "stream",
     "text": [
      "Downloading0 of 10 images\n",
      "Downloading1 of 10 images\n",
      "Downloading2 of 10 images\n",
      "Downloading3 of 10 images\n",
      "Downloading4 of 10 images\n",
      "Downloading5 of 10 images\n",
      "Downloading6 of 10 images\n",
      "Downloading7 of 10 images\n",
      "Downloading8 of 10 images\n",
      "Downloading9 of 10 images\n",
      "Downloading10 of 10 images\n"
     ]
    }
   ],
   "source": [
    "for _ in range(20):\n",
    "    driver.execute_script(\"window.scrollBy(0,100)\")\n",
    "    \n",
    "images=driver.find_elements(By.XPATH,'//img[@class=\"rg_i Q4LuWd\"]')\n",
    "\n",
    "img_urls=[]\n",
    "img_data=[]\n",
    "\n",
    "for image in images:\n",
    "    source=image.get_attribute('src')\n",
    "    if source is not None:\n",
    "        if (source[0:4]=='http'):\n",
    "            img_urls.append(source)\n",
    "            \n",
    "for i in range(len(img_urls)):\n",
    "    if i > 10:\n",
    "        break\n",
    "    print(\"Downloading{0} of {1} images\" .format(i,10))\n",
    "    response=requests.get(img_urls[i])\n",
    "    file=open(r\"C:\\Users\\Rabi Kumar\\Downloads\\pro\"+str(i)+\".jpg\",\"wb\")\n",
    "    file.write(response.content)"
   ]
  },
  {
   "cell_type": "code",
   "execution_count": null,
   "id": "90e6a148",
   "metadata": {},
   "outputs": [],
   "source": []
  },
  {
   "cell_type": "markdown",
   "id": "e306b291",
   "metadata": {},
   "source": [
    "### 4. Write a python program to search for a smartphone(e.g.: Oneplus Nord, pixel 4A, etc.) on www.flipkart.com\n",
    "and scrape following details for all the search results displayed on 1st page. Details to be scraped: “Brand \n",
    "Name”, “Smartphone name”, “Colour”, “RAM”, “Storage(ROM)”, “Primary Camera”, \n",
    "“Secondary Camera”, “Display Size”, “Battery Capacity”, “Price”, “Product URL”. Incase if any of the \n",
    "details is missing then replace it by “- “. Save your results in a dataframe and CSV. "
   ]
  },
  {
   "cell_type": "markdown",
   "id": "b6a62118",
   "metadata": {},
   "source": [
    "### Oneplus Nord"
   ]
  },
  {
   "cell_type": "code",
   "execution_count": 69,
   "id": "af35ac2c",
   "metadata": {},
   "outputs": [],
   "source": [
    "driver=webdriver.Chrome(r\"C:\\Users\\Rabi\\flip\\chormedriver.exe\")"
   ]
  },
  {
   "cell_type": "code",
   "execution_count": 70,
   "id": "d755001c",
   "metadata": {},
   "outputs": [],
   "source": [
    "# opening the Flipkart page on automated chorme browser\n",
    "\n",
    "driver.get(\"https://www.flipkart.com/\")"
   ]
  },
  {
   "cell_type": "code",
   "execution_count": 71,
   "id": "b72b29e7",
   "metadata": {},
   "outputs": [],
   "source": [
    "driver.maximize_window()"
   ]
  },
  {
   "cell_type": "code",
   "execution_count": 72,
   "id": "3de8af1a",
   "metadata": {},
   "outputs": [],
   "source": [
    "# entering sunglasses as required in the question-\n",
    "\n",
    "product=driver.find_element(By.CLASS_NAME,\"_3704LK\")\n",
    "product.send_keys('Oneplus Nord')"
   ]
  },
  {
   "cell_type": "code",
   "execution_count": 73,
   "id": "785a9786",
   "metadata": {},
   "outputs": [],
   "source": [
    "search=driver.find_element(By.CLASS_NAME,\"_34RNph\")\n",
    "search.click()"
   ]
  },
  {
   "cell_type": "code",
   "execution_count": 74,
   "id": "53ee526d",
   "metadata": {},
   "outputs": [],
   "source": [
    "product_urls=[]\n",
    "start=0\n",
    "end=1\n",
    "for page in range (start,end):\n",
    "    url=driver.find_elements(By.XPATH,'//a[@class=\"_1fQZEK\"]')\n",
    "    for i in url[0:10]:\n",
    "        product_urls.append(i.get_attribute(\"href\"))\n",
    "    next_button=driver.find_element(By.XPATH,'//a[@class=\"_1LKTO3\"]')\n",
    "    next_button.click()\n",
    "    time.sleep(3)"
   ]
  },
  {
   "cell_type": "code",
   "execution_count": 75,
   "id": "5ac8c3eb",
   "metadata": {},
   "outputs": [
    {
     "data": {
      "text/plain": [
       "10"
      ]
     },
     "execution_count": 75,
     "metadata": {},
     "output_type": "execute_result"
    }
   ],
   "source": [
    "len(product_urls)"
   ]
  },
  {
   "cell_type": "code",
   "execution_count": 76,
   "id": "2d12d992",
   "metadata": {},
   "outputs": [],
   "source": [
    "Brand_Name=[]\n",
    "Smartphone_name=[]\n",
    "Colour=[]\n",
    "RAM=[]\n",
    "ROM=[]\n",
    "Primary_Camera=[]\n",
    "Secondary_Camera=[]\n",
    "Display_Size=[]\n",
    "Battery_Capacity=[]\n",
    "Price=[]"
   ]
  },
  {
   "cell_type": "code",
   "execution_count": 77,
   "id": "ef97df01",
   "metadata": {},
   "outputs": [],
   "source": [
    "# scraping Brand Name from the given page\n",
    "\n",
    "for url in product_urls:\n",
    "    driver.get(url)\n",
    "    time.sleep(2)\n",
    "    \n",
    "    try:\n",
    "        brand=driver.find_element(By.XPATH,'//span[@class=\"B_NuCI\"]')\n",
    "        Brand_Name.append(brand.text[0:7])\n",
    "    except NoSuchElementException:\n",
    "        Brand.append('-')\n",
    "        \n",
    "# scraping  Smartphone_name from the given page\n",
    "\n",
    "    try:\n",
    "        name=driver.find_element(By.XPATH,'//span[@class=\"B_NuCI\"]')\n",
    "        Smartphone_name.append(name.text[7:17])\n",
    "    except NoSuchElementException:\n",
    "        Smartphone_name.append('-') \n",
    "        \n",
    "        \n",
    "# scraping  Colour from the given page\n",
    "\n",
    "    try:\n",
    "        colour=driver.find_element(By.XPATH,'//span[@class=\"B_NuCI\"]')\n",
    "        Colour.append(colour.text[20:32])\n",
    "    except NoSuchElementException:\n",
    "        Colour.append('-')        \n",
    "        \n",
    "# scraping  RAM from the given page\n",
    "\n",
    "    try:\n",
    "        ram=driver.find_element(By.XPATH,'//li[@class=\"_21Ahn-\"]')\n",
    "        RAM.append(ram.text.split('|')[0])\n",
    "    except NoSuchElementException:\n",
    "        RAM.append('-')           \n",
    "        \n",
    "        \n",
    "# scraping  ROM  from the given page\n",
    "\n",
    "    try:\n",
    "        rom=driver.find_element(By.XPATH,'//li[@class=\"_21Ahn-\"]')\n",
    "        ROM.append(rom.text.split('|')[1])\n",
    "    except NoSuchElementException:\n",
    "        ROM.append('-')\n",
    "\n",
    "# scraping  Primary_Camera from the given page\n",
    "\n",
    "    try:\n",
    "        p_camera=driver.find_element(By.XPATH,'/html/body/div[1]/div/div[3]/div[1]/div[2]/div[8]/div[4]/div/div[2]/div[1]/div[5]/table/tbody/tr/td[2]/ul/li')\n",
    "        Primary_Camera.append(p_camera.text)\n",
    "    except NoSuchElementException:\n",
    "        Primary_Camera.append('-')\n",
    "        \n",
    "# scraping  Secondary_Camera from the given page\n",
    "\n",
    "    try:\n",
    "        s_camera=driver.find_element(By.XPATH,'//*[@id=\"container\"]/div/div[3]/div[1]/div[2]/div[6]/div[1]/div/div[2]/ul/li[3]')\n",
    "        Secondary_Camera.append(s_camera.text)\n",
    "    except NoSuchElementException:\n",
    "        Secondary_Camera.append('-')\n",
    "        \n",
    "# scraping  Display_Size from the given page\n",
    "\n",
    "    try:\n",
    "        d_size=driver.find_element(By.XPATH,'/html/body/div[1]/div/div[3]/div[1]/div[2]/div[6]/div[1]/div/div[2]/ul/li[2]')\n",
    "        Display_Size.append(d_size.text)\n",
    "    except NoSuchElementException:\n",
    "        Display_Size.append('-')\n",
    "        \n",
    "# scraping  Battery_Capacity from the given page\n",
    "\n",
    "    try:\n",
    "        b_capacity=driver.find_element(By.XPATH,'/html/body/div[1]/div/div[3]/div[1]/div[2]/div[6]/div[1]/div/div[2]/ul/li[4]')\n",
    "        Battery_Capacity.append(b_capacity.text)\n",
    "    except NoSuchElementException:\n",
    "        Battery_Capacity.append('-')\n",
    "        \n",
    "# scraping  Price from the given page\n",
    "\n",
    "    try:\n",
    "        price=driver.find_element(By.XPATH,'//div[@class=\"_30jeq3 _16Jk6d\"]')\n",
    "        Price.append(price.text)\n",
    "    except NoSuchElementException:\n",
    "        Price.append('-')"
   ]
  },
  {
   "cell_type": "code",
   "execution_count": 78,
   "id": "79b820ad",
   "metadata": {},
   "outputs": [
    {
     "data": {
      "text/plain": [
       "(10, 10, 10, 10, 10, 10, 10, 10, 10, 10, 10)"
      ]
     },
     "execution_count": 78,
     "metadata": {},
     "output_type": "execute_result"
    }
   ],
   "source": [
    "len(product_urls),len(Brand_Name),len(Smartphone_name),len(Colour),len(RAM),len(ROM),len(Primary_Camera),len(Secondary_Camera),len(Display_Size),len(Battery_Capacity),len(Price)"
   ]
  },
  {
   "cell_type": "code",
   "execution_count": 79,
   "id": "7289d4e2",
   "metadata": {},
   "outputs": [
    {
     "data": {
      "text/html": [
       "<div>\n",
       "<style scoped>\n",
       "    .dataframe tbody tr th:only-of-type {\n",
       "        vertical-align: middle;\n",
       "    }\n",
       "\n",
       "    .dataframe tbody tr th {\n",
       "        vertical-align: top;\n",
       "    }\n",
       "\n",
       "    .dataframe thead th {\n",
       "        text-align: right;\n",
       "    }\n",
       "</style>\n",
       "<table border=\"1\" class=\"dataframe\">\n",
       "  <thead>\n",
       "    <tr style=\"text-align: right;\">\n",
       "      <th></th>\n",
       "      <th>Brand_Name</th>\n",
       "      <th>Smartphone_name</th>\n",
       "      <th>Colour</th>\n",
       "      <th>RAM</th>\n",
       "      <th>ROM</th>\n",
       "      <th>Primary_Camera</th>\n",
       "      <th>Secondary_Camera</th>\n",
       "      <th>Display_Size</th>\n",
       "      <th>Battery_Capacity</th>\n",
       "      <th>Price</th>\n",
       "      <th>product_urls</th>\n",
       "    </tr>\n",
       "  </thead>\n",
       "  <tbody>\n",
       "    <tr>\n",
       "      <th>0</th>\n",
       "      <td>OnePlus</td>\n",
       "      <td>Nord CE 2</td>\n",
       "      <td>te 5G (Blue</td>\n",
       "      <td>6 GB RAM</td>\n",
       "      <td>128 GB ROM</td>\n",
       "      <td></td>\n",
       "      <td>-</td>\n",
       "      <td>-</td>\n",
       "      <td>-</td>\n",
       "      <td>₹19,188</td>\n",
       "      <td>https://www.flipkart.com/oneplus-nord-ce-2-lit...</td>\n",
       "    </tr>\n",
       "    <tr>\n",
       "      <th>1</th>\n",
       "      <td>OnePlus</td>\n",
       "      <td>Nord CE 2</td>\n",
       "      <td>te 5G (Black</td>\n",
       "      <td>6 GB RAM</td>\n",
       "      <td>128 GB ROM</td>\n",
       "      <td>-</td>\n",
       "      <td>-</td>\n",
       "      <td>-</td>\n",
       "      <td>-</td>\n",
       "      <td>₹18,934</td>\n",
       "      <td>https://www.flipkart.com/oneplus-nord-ce-2-lit...</td>\n",
       "    </tr>\n",
       "    <tr>\n",
       "      <th>2</th>\n",
       "      <td>OnePlus</td>\n",
       "      <td>Nord CE 2</td>\n",
       "      <td>te 5G (Blue</td>\n",
       "      <td>8 GB RAM</td>\n",
       "      <td>128 GB ROM</td>\n",
       "      <td>-</td>\n",
       "      <td>-</td>\n",
       "      <td>-</td>\n",
       "      <td>-</td>\n",
       "      <td>₹21,997</td>\n",
       "      <td>https://www.flipkart.com/oneplus-nord-ce-2-lit...</td>\n",
       "    </tr>\n",
       "    <tr>\n",
       "      <th>3</th>\n",
       "      <td>OnePlus</td>\n",
       "      <td>Nord CE 2</td>\n",
       "      <td>te 5G (Black</td>\n",
       "      <td>8 GB RAM</td>\n",
       "      <td>128 GB ROM</td>\n",
       "      <td>-</td>\n",
       "      <td>-</td>\n",
       "      <td>-</td>\n",
       "      <td>-</td>\n",
       "      <td>₹21,890</td>\n",
       "      <td>https://www.flipkart.com/oneplus-nord-ce-2-lit...</td>\n",
       "    </tr>\n",
       "    <tr>\n",
       "      <th>4</th>\n",
       "      <td>OnePlus</td>\n",
       "      <td>Nord 2T 5</td>\n",
       "      <td>Jade Fog, 12</td>\n",
       "      <td>8 GB RAM</td>\n",
       "      <td>128 GB ROM</td>\n",
       "      <td>-</td>\n",
       "      <td>-</td>\n",
       "      <td>-</td>\n",
       "      <td>-</td>\n",
       "      <td>₹28,970</td>\n",
       "      <td>https://www.flipkart.com/oneplus-nord-2t-5g-ja...</td>\n",
       "    </tr>\n",
       "    <tr>\n",
       "      <th>5</th>\n",
       "      <td>OnePlus</td>\n",
       "      <td>Nord 2T 5</td>\n",
       "      <td>Jade Fog, 12</td>\n",
       "      <td>8 GB RAM</td>\n",
       "      <td>128 GB ROM</td>\n",
       "      <td>-</td>\n",
       "      <td>50MP Rear Camera</td>\n",
       "      <td>17.02 cm (6.7 inch) Display</td>\n",
       "      <td>4500 mAh Battery</td>\n",
       "      <td>₹28,999</td>\n",
       "      <td>https://www.flipkart.com/oneplus-nord-2t-5g-ja...</td>\n",
       "    </tr>\n",
       "    <tr>\n",
       "      <th>6</th>\n",
       "      <td>OnePlus</td>\n",
       "      <td>Nord 2T 5</td>\n",
       "      <td>Gray Shadow,</td>\n",
       "      <td>8 GB RAM</td>\n",
       "      <td>128 GB ROM</td>\n",
       "      <td>-</td>\n",
       "      <td>-</td>\n",
       "      <td>-</td>\n",
       "      <td>-</td>\n",
       "      <td>₹33,900</td>\n",
       "      <td>https://www.flipkart.com/oneplus-nord-2t-5g-gr...</td>\n",
       "    </tr>\n",
       "    <tr>\n",
       "      <th>7</th>\n",
       "      <td>OnePlus</td>\n",
       "      <td>Nord 2T 5</td>\n",
       "      <td>Gray Shadow,</td>\n",
       "      <td>8 GB RAM</td>\n",
       "      <td>128 GB ROM</td>\n",
       "      <td>-</td>\n",
       "      <td>50MP Rear Camera</td>\n",
       "      <td>17.02 cm (6.7 inch) Display</td>\n",
       "      <td>4500 mAh Battery</td>\n",
       "      <td>₹28,999</td>\n",
       "      <td>https://www.flipkart.com/oneplus-nord-2t-5g-gr...</td>\n",
       "    </tr>\n",
       "    <tr>\n",
       "      <th>8</th>\n",
       "      <td>OnePlus</td>\n",
       "      <td>Nord 2 5G</td>\n",
       "      <td>ray Sierra,</td>\n",
       "      <td>8 GB RAM</td>\n",
       "      <td>128 GB ROM</td>\n",
       "      <td>-</td>\n",
       "      <td>50MP Rear Camera</td>\n",
       "      <td>16.33 cm (6.43 inch) Display</td>\n",
       "      <td>4500 mAh Battery</td>\n",
       "      <td>₹29,999</td>\n",
       "      <td>https://www.flipkart.com/oneplus-nord-2-5g-gra...</td>\n",
       "    </tr>\n",
       "    <tr>\n",
       "      <th>9</th>\n",
       "      <td>OnePlus</td>\n",
       "      <td>Nord CE 5</td>\n",
       "      <td>Charcoal Ink</td>\n",
       "      <td>8 GB RAM</td>\n",
       "      <td>128 GB ROM</td>\n",
       "      <td>-</td>\n",
       "      <td>64MP Rear Camera</td>\n",
       "      <td>16.33 cm (6.43 inch) Display</td>\n",
       "      <td>4500 mAh Battery</td>\n",
       "      <td>₹24,990</td>\n",
       "      <td>https://www.flipkart.com/oneplus-nord-ce-5g-ch...</td>\n",
       "    </tr>\n",
       "  </tbody>\n",
       "</table>\n",
       "</div>"
      ],
      "text/plain": [
       "  Brand_Name Smartphone_name        Colour        RAM          ROM  \\\n",
       "0    OnePlus       Nord CE 2  te 5G (Blue   6 GB RAM    128 GB ROM   \n",
       "1    OnePlus       Nord CE 2  te 5G (Black  6 GB RAM    128 GB ROM   \n",
       "2    OnePlus       Nord CE 2  te 5G (Blue   8 GB RAM    128 GB ROM   \n",
       "3    OnePlus       Nord CE 2  te 5G (Black  8 GB RAM    128 GB ROM   \n",
       "4    OnePlus       Nord 2T 5  Jade Fog, 12  8 GB RAM    128 GB ROM   \n",
       "5    OnePlus       Nord 2T 5  Jade Fog, 12  8 GB RAM    128 GB ROM   \n",
       "6    OnePlus       Nord 2T 5  Gray Shadow,  8 GB RAM    128 GB ROM   \n",
       "7    OnePlus       Nord 2T 5  Gray Shadow,  8 GB RAM    128 GB ROM   \n",
       "8    OnePlus       Nord 2 5G  ray Sierra,   8 GB RAM    128 GB ROM   \n",
       "9    OnePlus       Nord CE 5  Charcoal Ink  8 GB RAM    128 GB ROM   \n",
       "\n",
       "  Primary_Camera  Secondary_Camera                  Display_Size  \\\n",
       "0                                -                             -   \n",
       "1              -                 -                             -   \n",
       "2              -                 -                             -   \n",
       "3              -                 -                             -   \n",
       "4              -                 -                             -   \n",
       "5              -  50MP Rear Camera   17.02 cm (6.7 inch) Display   \n",
       "6              -                 -                             -   \n",
       "7              -  50MP Rear Camera   17.02 cm (6.7 inch) Display   \n",
       "8              -  50MP Rear Camera  16.33 cm (6.43 inch) Display   \n",
       "9              -  64MP Rear Camera  16.33 cm (6.43 inch) Display   \n",
       "\n",
       "   Battery_Capacity    Price  \\\n",
       "0                 -  ₹19,188   \n",
       "1                 -  ₹18,934   \n",
       "2                 -  ₹21,997   \n",
       "3                 -  ₹21,890   \n",
       "4                 -  ₹28,970   \n",
       "5  4500 mAh Battery  ₹28,999   \n",
       "6                 -  ₹33,900   \n",
       "7  4500 mAh Battery  ₹28,999   \n",
       "8  4500 mAh Battery  ₹29,999   \n",
       "9  4500 mAh Battery  ₹24,990   \n",
       "\n",
       "                                        product_urls  \n",
       "0  https://www.flipkart.com/oneplus-nord-ce-2-lit...  \n",
       "1  https://www.flipkart.com/oneplus-nord-ce-2-lit...  \n",
       "2  https://www.flipkart.com/oneplus-nord-ce-2-lit...  \n",
       "3  https://www.flipkart.com/oneplus-nord-ce-2-lit...  \n",
       "4  https://www.flipkart.com/oneplus-nord-2t-5g-ja...  \n",
       "5  https://www.flipkart.com/oneplus-nord-2t-5g-ja...  \n",
       "6  https://www.flipkart.com/oneplus-nord-2t-5g-gr...  \n",
       "7  https://www.flipkart.com/oneplus-nord-2t-5g-gr...  \n",
       "8  https://www.flipkart.com/oneplus-nord-2-5g-gra...  \n",
       "9  https://www.flipkart.com/oneplus-nord-ce-5g-ch...  "
      ]
     },
     "execution_count": 79,
     "metadata": {},
     "output_type": "execute_result"
    }
   ],
   "source": [
    "import pandas as pd\n",
    "df=pd.DataFrame({'Brand_Name':Brand_Name,'Smartphone_name':Smartphone_name,'Colour':Colour,'RAM':RAM,'ROM':ROM,'Primary_Camera':Primary_Camera,'Secondary_Camera':Secondary_Camera,'Display_Size':Display_Size,'Battery_Capacity':Battery_Capacity,'Price':Price,'product_urls':product_urls})\n",
    "df"
   ]
  },
  {
   "cell_type": "code",
   "execution_count": 35,
   "id": "37be1042",
   "metadata": {},
   "outputs": [],
   "source": [
    "df.to_csv('Oneplus_Nord_data.csv',index=False)"
   ]
  },
  {
   "cell_type": "code",
   "execution_count": null,
   "id": "e89b7fc7",
   "metadata": {},
   "outputs": [],
   "source": []
  },
  {
   "cell_type": "code",
   "execution_count": null,
   "id": "1f58bc00",
   "metadata": {},
   "outputs": [],
   "source": []
  },
  {
   "cell_type": "code",
   "execution_count": null,
   "id": "07cc1922",
   "metadata": {},
   "outputs": [],
   "source": []
  },
  {
   "cell_type": "markdown",
   "id": "f3e09fce",
   "metadata": {},
   "source": [
    "### 5. Write a program to scrap geospatial coordinates (latitude, longitude) of a city searched on google maps."
   ]
  },
  {
   "cell_type": "code",
   "execution_count": 22,
   "id": "e4fbc1c2",
   "metadata": {},
   "outputs": [],
   "source": [
    "import selenium\n",
    "\n",
    "import pandas as pd\n",
    "\n",
    "from selenium import webdriver\n",
    "\n",
    "import warnings\n",
    "warnings.filterwarnings('ignore')\n",
    "\n",
    "from selenium.webdriver.support.ui import WebDriverWait\n",
    "\n",
    "from selenium.common.exceptions import StaleElementReferenceException,NoSuchElementException\n",
    "\n",
    "from selenium.webdriver.support import expected_conditions as EC\n",
    "\n",
    "from selenium.webdriver.common.by import By\n",
    "\n",
    "import time"
   ]
  },
  {
   "cell_type": "code",
   "execution_count": 85,
   "id": "6d06b9cb",
   "metadata": {},
   "outputs": [],
   "source": [
    "driver=webdriver.Chrome(r\"C:\\Users\\Rabi\\flip\\chormedriver.exe\")"
   ]
  },
  {
   "cell_type": "code",
   "execution_count": 86,
   "id": "960f9602",
   "metadata": {},
   "outputs": [],
   "source": [
    "# opening the amazon page on automated chorme browser\n",
    "\n",
    "driver.get(\"https://www.google.com/maps/\")"
   ]
  },
  {
   "cell_type": "code",
   "execution_count": 87,
   "id": "daea5694",
   "metadata": {},
   "outputs": [],
   "source": [
    "driver.maximize_window()"
   ]
  },
  {
   "cell_type": "code",
   "execution_count": 88,
   "id": "92b51dd5",
   "metadata": {
    "scrolled": false
   },
   "outputs": [
    {
     "ename": "AttributeError",
     "evalue": "'list' object has no attribute 'send_keys'",
     "output_type": "error",
     "traceback": [
      "\u001b[1;31m---------------------------------------------------------------------------\u001b[0m",
      "\u001b[1;31mAttributeError\u001b[0m                            Traceback (most recent call last)",
      "Cell \u001b[1;32mIn[88], line 2\u001b[0m\n\u001b[0;32m      1\u001b[0m city\u001b[38;5;241m=\u001b[39mdriver\u001b[38;5;241m.\u001b[39mfind_elements(By\u001b[38;5;241m.\u001b[39mXPATH,\u001b[38;5;124m\"\u001b[39m\u001b[38;5;124m/html/body/div[3]/div[9]/div[3]/div[1]/div[1]/div[1]/div[2]/form/div[2]/div[3]\u001b[39m\u001b[38;5;124m\"\u001b[39m)\n\u001b[1;32m----> 2\u001b[0m \u001b[43mcity\u001b[49m\u001b[38;5;241;43m.\u001b[39;49m\u001b[43msend_keys\u001b[49m(\u001b[38;5;124m'\u001b[39m\u001b[38;5;124mdelhi\u001b[39m\u001b[38;5;124m'\u001b[39m)\n",
      "\u001b[1;31mAttributeError\u001b[0m: 'list' object has no attribute 'send_keys'"
     ]
    }
   ],
   "source": [
    "city=driver.find_elements(By.XPATH,\"/html/body/div[3]/div[9]/div[3]/div[1]/div[1]/div[1]/div[2]/form/div[2]/div[3]\")\n",
    "city.send_keys('delhi')\n"
   ]
  },
  {
   "cell_type": "code",
   "execution_count": null,
   "id": "c2d42afa",
   "metadata": {},
   "outputs": [],
   "source": [
    "search=driver.find_element(By.CLASS_NAME,\"pzfvzf\")\n",
    "search.click()"
   ]
  },
  {
   "cell_type": "code",
   "execution_count": null,
   "id": "ae958f50",
   "metadata": {},
   "outputs": [],
   "source": []
  },
  {
   "cell_type": "markdown",
   "id": "df45727b",
   "metadata": {},
   "source": [
    "### 6. Write a program to scrap all the available details of best gaming laptops from digit.in."
   ]
  },
  {
   "cell_type": "code",
   "execution_count": 116,
   "id": "517ca65a",
   "metadata": {},
   "outputs": [],
   "source": [
    "driver=webdriver.Chrome(r\"C:\\Users\\Rabi\\flip\\chormedriver.exe\")"
   ]
  },
  {
   "cell_type": "code",
   "execution_count": 117,
   "id": "f9e8bfdf",
   "metadata": {},
   "outputs": [],
   "source": [
    "driver.get(\"https://www.digit.in\")"
   ]
  },
  {
   "cell_type": "code",
   "execution_count": 118,
   "id": "3e2dba79",
   "metadata": {},
   "outputs": [],
   "source": [
    "driver.maximize_window()"
   ]
  },
  {
   "cell_type": "code",
   "execution_count": 119,
   "id": "c4a748a0",
   "metadata": {},
   "outputs": [],
   "source": [
    "search=driver.find_element(By.XPATH,\"/html/body/div[7]/div/div[2]/div[2]/div[3]/ul/li[9]/a\")\n",
    "search.click()"
   ]
  },
  {
   "cell_type": "code",
   "execution_count": 120,
   "id": "374eaa58",
   "metadata": {},
   "outputs": [],
   "source": [
    "Product_Name=[]\n",
    "Processor=[]\n",
    "Display=[]\n",
    "OS=[]\n",
    "Memory=[]\n"
   ]
  },
  {
   "cell_type": "code",
   "execution_count": 121,
   "id": "a6ec77da",
   "metadata": {},
   "outputs": [],
   "source": [
    "# scraping Product_Name from the given page\n",
    "\n",
    "product_tags=driver.find_elements(By.XPATH,'//div[@class=\"left_side\"]')\n",
    "for i in product_tags[0:10]:\n",
    "    proudct=i.text\n",
    "    Product_Name.append(proudct)\n",
    "    \n",
    "# scraping Processor from the given page\n",
    "\n",
    "processor_tags=driver.find_elements(By.XPATH,'//div[@class=\"value\"]')\n",
    "for i in processor_tags[0:10]:\n",
    "    processor=i.text\n",
    "    Processor.append(proudct)\n",
    "    \n",
    "# scraping Display from the given page\n",
    "\n",
    "display_tags=driver.find_elements(By.XPATH,'//div[@class=\"Wrap-pop\"]')\n",
    "for i in display_tags[0:10]:\n",
    "    display=i.text\n",
    "    Display.append(display)\n",
    "    \n",
    "# scraping OS from the given page\n",
    "\n",
    "os_tags=driver.find_elements(By.XPATH,'//div[@class=\"value\"]')\n",
    "for i in os_tags[0:10]:\n",
    "    os=i.text\n",
    "    OS.append(os)\n",
    "\n",
    "# scraping Memory from the given page\n",
    "\n",
    "memory_tags=driver.find_elements(By.XPATH,'//div[@class=\"value\"]')\n",
    "for i in memory_tags[0:10]:\n",
    "    memory=i.text\n",
    "    Memory.append(memory)\n",
    "    \n"
   ]
  },
  {
   "cell_type": "code",
   "execution_count": 122,
   "id": "7fb3a313",
   "metadata": {},
   "outputs": [
    {
     "data": {
      "text/plain": [
       "(10, 10, 10, 10, 10)"
      ]
     },
     "execution_count": 122,
     "metadata": {},
     "output_type": "execute_result"
    }
   ],
   "source": [
    "len(Product_Name),len(Processor),len(Display),len(OS),len(Memory)"
   ]
  },
  {
   "cell_type": "code",
   "execution_count": null,
   "id": "ae637bdb",
   "metadata": {},
   "outputs": [],
   "source": []
  },
  {
   "cell_type": "code",
   "execution_count": null,
   "id": "74805d79",
   "metadata": {},
   "outputs": [],
   "source": []
  }
 ],
 "metadata": {
  "kernelspec": {
   "display_name": "Python 3 (ipykernel)",
   "language": "python",
   "name": "python3"
  },
  "language_info": {
   "codemirror_mode": {
    "name": "ipython",
    "version": 3
   },
   "file_extension": ".py",
   "mimetype": "text/x-python",
   "name": "python",
   "nbconvert_exporter": "python",
   "pygments_lexer": "ipython3",
   "version": "3.10.9"
  }
 },
 "nbformat": 4,
 "nbformat_minor": 5
}
